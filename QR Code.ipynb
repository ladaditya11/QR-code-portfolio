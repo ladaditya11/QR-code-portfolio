{
 "cells": [
  {
   "cell_type": "code",
   "execution_count": 11,
   "id": "4b419395-8652-468f-998b-8da04dfa0c35",
   "metadata": {},
   "outputs": [],
   "source": [
    "import qrcode\n",
    "from PIL import Image\n",
    "\n",
    "# Generating QR Code with alignment\n",
    "qr=qrcode.QRCode(\n",
    "    version=15,\n",
    "    error_correction=qrcode.constants.ERROR_CORRECT_H,\n",
    "    box_size=10,\n",
    "    border=5)\n",
    "\n",
    "# Enter data of which you want QR CODE\n",
    "data= \"https://ladaditya11.github.io/ladadityaportfolio.github.io/"\n",
    "qr.add_data(data)\n",
    "qr.make(fit= True)\n",
    "img= qr.make_image(fill=\"black\",back_color=\"white\")\n",
    "img.save(\"test.png\")"
   ]
  },
  {
   "cell_type": "code",
   "execution_count": null,
   "id": "b33f651c-f3b6-40bc-92ad-ce96fc201655",
   "metadata": {},
   "outputs": [],
   "source": []
  },
  {
   "cell_type": "code",
   "execution_count": null,
   "id": "1c60a84a-d10f-4023-9ed6-93d02c0cf627",
   "metadata": {},
   "outputs": [],
   "source": []
  }
 ],
 "metadata": {
  "kernelspec": {
   "display_name": "Python 3 (ipykernel)",
   "language": "python",
   "name": "python3"
  },
  "language_info": {
   "codemirror_mode": {
    "name": "ipython",
    "version": 3
   },
   "file_extension": ".py",
   "mimetype": "text/x-python",
   "name": "python",
   "nbconvert_exporter": "python",
   "pygments_lexer": "ipython3",
   "version": "3.11.7"
  }
 },
 "nbformat": 4,
 "nbformat_minor": 5
}
